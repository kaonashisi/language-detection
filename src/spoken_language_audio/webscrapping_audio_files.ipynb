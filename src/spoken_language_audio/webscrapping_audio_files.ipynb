{
 "cells": [
  {
   "cell_type": "code",
   "execution_count": 1,
   "id": "7f3af09a",
   "metadata": {},
   "outputs": [
    {
     "name": "stderr",
     "output_type": "stream",
     "text": [
      "/Users/sirinekefi/Library/Python/3.9/lib/python/site-packages/urllib3/__init__.py:34: NotOpenSSLWarning: urllib3 v2 only supports OpenSSL 1.1.1+, currently the 'ssl' module is compiled with 'LibreSSL 2.8.3'. See: https://github.com/urllib3/urllib3/issues/3020\n",
      "  warnings.warn(\n"
     ]
    }
   ],
   "source": [
    "import pandas as pd\n",
    "import requests\n",
    "from bs4 import BeautifulSoup\n",
    "from sqlalchemy import create_engine\n",
    "import os"
   ]
  },
  {
   "cell_type": "code",
   "execution_count": 2,
   "id": "b323f3ea",
   "metadata": {
    "scrolled": false
   },
   "outputs": [],
   "source": [
    "def scrap_dataset_ids(soup):\n",
    "    # Lists to store extracted data\n",
    "    languages = ['English', 'French', 'German']\n",
    "    titles = []\n",
    "    dataset_ids = []\n",
    "\n",
    "    # Find all components\n",
    "    components = soup.find_all('div', class_='item_desc')\n",
    "\n",
    "    for component in components:\n",
    "        #display(component, type(component))\n",
    "        # Extract language in title\n",
    "        title = component.get('title')\n",
    "        #if any(l in title for l in languages):\n",
    "        titles.append(title)\n",
    "\n",
    "       # Extract datasetid\n",
    "        dataset_id = component.get('datasetid')\n",
    "        #print('id: ', dataset_id)\n",
    "        dataset_ids.append(dataset_id)\n",
    "\n",
    "    # Create DataFrame\n",
    "    df = pd.DataFrame({\n",
    "        'language': titles,\n",
    "        'dataset_id': dataset_ids,\n",
    "    })\n",
    "\n",
    "    return df_dataset_id"
   ]
  },
  {
   "cell_type": "code",
   "execution_count": 3,
   "id": "399d94aa",
   "metadata": {},
   "outputs": [],
   "source": [
    "def scrap_audio(url, df):\n",
    "    # Lists to store extracted data\n",
    "    audios = []\n",
    "    languages = []\n",
    "    \n",
    "    for index, row in df.iterrows():\n",
    "        response = requests.get(url_dataset + str(row['dataset_id']))\n",
    "        if not response.ok:\n",
    "            raise Exception(\"API error: {}\".format(response.json()['message']))\n",
    "        else:\n",
    "            soup = BeautifulSoup(response.content, \"html.parser\")\n",
    "\n",
    "            # Find all components\n",
    "            components = soup.find_all('div', class_='audio')\n",
    "            for component in components:\n",
    "                \n",
    "                # Extract audios\n",
    "                audio = component.find('audio').get('src')\n",
    "                audios.append(audio)\n",
    "                \n",
    "                #Extract language\n",
    "                languages.append(row['language'])\n",
    "\n",
    "    # Create DataFrame\n",
    "    df = pd.DataFrame({\n",
    "        'language': languages,\n",
    "        'audio_path': audios,\n",
    "    })\n",
    "    return df"
   ]
  },
  {
   "cell_type": "code",
   "execution_count": 4,
   "id": "e2f5f910",
   "metadata": {},
   "outputs": [],
   "source": [
    "def create_sql_table(df):\n",
    "    pw = os.getenv('MySQLpwd')\n",
    "    connection_string = 'mysql+pymysql://root:' + pw + '@localhost:3306/'\n",
    "    engine = create_engine(connection_string)\n",
    "    df.to_sql('language_audio', engine, 'languages', if_exists='replace', index=False)"
   ]
  },
  {
   "cell_type": "code",
   "execution_count": 5,
   "id": "25830052",
   "metadata": {},
   "outputs": [
    {
     "name": "stderr",
     "output_type": "stream",
     "text": [
      "/var/folders/lm/4mnn9t7j70qdpvyckfhp0drm0000gn/T/ipykernel_3860/2275890144.py:5: FutureWarning: Starting with pandas version 3.0 all arguments of to_sql except for the arguments 'name' and 'con' will be keyword-only.\n",
      "  df.to_sql('language_audio', engine, 'languages', if_exists='replace', index=False)\n"
     ]
    }
   ],
   "source": [
    "url = 'https://www.nexdata.ai/speechRecognition/'\n",
    "id_list = ['1262_en', '1147_es', '1299_de']\n",
    "url_dataset = 'https://www.nexdata.ai/dataset/'\n",
    "response = requests.get(url)\n",
    "\n",
    "if not response.ok:\n",
    "    raise Exception(\"API error: {}\".format(response.json()['message']))\n",
    "else:    \n",
    "    soup = BeautifulSoup(response.content, \"html.parser\")\n",
    "    \n",
    "    #df_dataset_id = scrap_dataset_ids(soup)\n",
    "    df_dataset_id = pd.DataFrame({'language': [k[-2:] for k in id_list], 'dataset_id' : [k.split('_')[0] for k in id_list]})\n",
    "    \n",
    "    df = scrap_audio(url_dataset, df_dataset_id)\n",
    "    \n",
    "    #create_sql_table(df)"
   ]
  }
 ],
 "metadata": {
  "kernelspec": {
   "display_name": "Python 3 (ipykernel)",
   "language": "python",
   "name": "python3"
  },
  "language_info": {
   "codemirror_mode": {
    "name": "ipython",
    "version": 3
   },
   "file_extension": ".py",
   "mimetype": "text/x-python",
   "name": "python",
   "nbconvert_exporter": "python",
   "pygments_lexer": "ipython3",
   "version": "3.9.6"
  }
 },
 "nbformat": 4,
 "nbformat_minor":