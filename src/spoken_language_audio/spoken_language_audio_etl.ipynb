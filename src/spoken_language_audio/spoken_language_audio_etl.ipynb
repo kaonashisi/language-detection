{
 "cells": [
  {
   "cell_type": "code",
   "execution_count": 1,
   "id": "85c19e5d",
   "metadata": {},
   "outputs": [],
   "source": [
    "from sqlalchemy import create_engine\n",
    "import pandas as pd\n",
    "import numpy as np\n",
    "import os"
   ]
  },
  {
   "cell_type": "code",
   "execution_count": 2,
   "id": "1c523646",
   "metadata": {},
   "outputs": [],
   "source": [
    "def create_train_test_df():\n",
    "    path_train = '../data/new/train/'\n",
    "    path_test = '../data/new/train/'\n",
    "\n",
    "    train_list = os.listdir(path_train)\n",
    "    test_list = os.listdir(path_test)\n",
    "    \n",
    "    d_train = {'language': [x[:2] for x in train_list], 'audio_path': [path_train + x for x in train_list], 'set' : 'train'}\n",
    "    d_test = {'language': [x[:2] for x in test_list], 'audio_path': [path_test + x for x in test_list], 'set' : 'test'}\n",
    "    \n",
    "    df_train = pd.DataFrame(data=d_train)\n",
    "    df_test = pd.DataFrame(data=d_test)\n",
    "    frames = [df_train, df_test]\n",
    "    \n",
    "    return pd.concat(frames)"
   ]
  },
  {
   "cell_type": "code",
   "execution_count": 3,
   "id": "e9cdb96f",
   "metadata": {},
   "outputs": [],
   "source": [
    "def create_sql_table(df):\n",
    "    pw = os.getenv('MySQLpwd')\n",
    "    connection_string = 'mysql+pymysql://root:' + pw + '@localhost:3306/'\n",
    "    engine = create_engine(connection_string)\n",
    "    df.to_sql('language_audio_sets', engine, 'languages', if_exists='replace', index=False)"
   ]
  },
  {
   "cell_type": "code",
   "execution_count": 4,
   "id": "9192dcf0",
   "metadata": {},
   "outputs": [
    {
     "ename": "FileNotFoundError",
     "evalue": "[Errno 2] No such file or directory: '../data/new/train/'",
     "output_type": "error",
     "traceback": [
      "\u001b[0;31m---------------------------------------------------------------------------\u001b[0m",
      "\u001b[0;31mFileNotFoundError\u001b[0m                         Traceback (most recent call last)",
      "Cell \u001b[0;32mIn[4], line 1\u001b[0m\n\u001b[0;32m----> 1\u001b[0m df \u001b[38;5;241m=\u001b[39m \u001b[43mcreate_train_test_df\u001b[49m\u001b[43m(\u001b[49m\u001b[43m)\u001b[49m\n\u001b[1;32m      2\u001b[0m \u001b[38;5;66;03m#create_sql_table(df)\u001b[39;00m\n",
      "Cell \u001b[0;32mIn[2], line 5\u001b[0m, in \u001b[0;36mcreate_train_test_df\u001b[0;34m()\u001b[0m\n\u001b[1;32m      2\u001b[0m path_train \u001b[38;5;241m=\u001b[39m \u001b[38;5;124m'\u001b[39m\u001b[38;5;124m../data/new/train/\u001b[39m\u001b[38;5;124m'\u001b[39m\n\u001b[1;32m    